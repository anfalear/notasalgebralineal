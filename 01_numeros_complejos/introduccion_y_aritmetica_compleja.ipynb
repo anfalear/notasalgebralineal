# %% [markdown]
# <h1 style="color: #1e3c72; text-align: center;">Números complejos</h1>
# 
# Los números complejos son una extensión de los números reales que surgieron de la necesidad de calcular todas las raíces de un polinomio y darle sentido al Teorema Fundamental del Álgebra, el cual establece que todo polinomio de grado $n$ tiene exactamente $n$ raíces contando multiplicidades. Su aplicación es esencial en matemáticas, física e ingeniería. Este capítulo presenta su definición, propiedades básicas y su relación con el Teorema Fundamental del Álgebra.

# %% [markdown]
# <h2 style="color: #1e3c72;">Propiedades básicas de los números complejos</h2>

# %% [markdown]
# <div style="background-color: #e6f7ff; border-left: 5px solid #2196F3; padding: 10px; border-radius: 5px;">
# <b>Definición 1.1 (Número complejo):</b><br>
# Un número complejo es un número de la forma $$z=x+iy$$ donde $x$ y $y$ son números reales e $i$ es la unidad imaginaria definida como $i^2=-1$. El valor $x$ se denomina <b>parte real</b> y el valor $y$ <b>parte imaginaria</b>. El conjunto de todos los números complejos se denota por $\mathbb{C}$.
# </div>

# %% [markdown]
# <div style="background-color: #fff9e6; border-left: 5px solid #FFC107; padding: 10px; border-radius: 5px;">
# <b>Observación:</b><br>
# En ingeniería, la unidad imaginaria suele representarse como $j$ en lugar de $i$. Esta diferencia es puramente notacional. En este texto se utiliza la convención matemática $i$ para la unidad imaginaria.
# </div>

# %% [markdown]
# En este capítulo se estudiarán las propiedades básicas de los números complejos y su representación geométrica en el plano complejo. Se inicia con la definición de las operaciones básicas:

# %% [markdown]
# <div style="background-color: #e6f7ff; border-left: 5px solid #2196F3; padding: 10px; border-radius: 5px;">
# <b>Definición 1.2 (Operaciones básicas):</b><br>
# Sean $z_1=x_1+iy_1$ y $z_2=x_2+iy_2$ números complejos, se definen:
# <ul>
# <li> <b>Suma:</b> $z_1+z_2=\left( x_1+x_2 \right) + i\left( y_1+y_2 \right)$</li>
# <li> <b>Multiplicación:</b> $z_1z_2=\left(x_1x_2-y_1y_2\right)+i\left(x_1y_2+x_2y_1\right)$</li>
# <li> <b>Conjugado:</b> $\overline{z_1}= x_1-iy_1$. En algunos textos avanzados, el conjugado se denota por $z^{*}$. Para evitar confusiones, aquí se usará la notación con línea superpuesta.</li>
# </ul> 
# </div>

# %% [markdown]
# Estas operaciones dotan a los números complejos de la estructura de <b>campo</b>. La demostración de las siguientes propiedades se propone como ejercicio.

# %% [markdown]
# <div style="background-color: #e8f5e9; border-left: 5px solid #4CAF50; padding: 10px; border-radius: 5px;">
# <b>Teorema 1.1 (Propiedades de campo de los números complejos):</b><br>
# Sean $z_1,z_2$ y $z_3 \in \mathbb{C}$, entonces:
# <ol>
# <li> <b>Cerradura bajo la suma y la multiplicación:</b> $z_1+z_2$ y $z_1z_2$ $\in \mathbb{C}$</li>
# <li> <b>Asociatividad:</b> $\left(z_1+z_2 \right)+z_3=z_1+\left( z_2+z_3 \right)$ y $\left( z_1z_2 \right)z_3=z_1\left( z_2z_3 \right)$</li> 
# <li> <b>Elementos neutros:</b> Existen $\mathbf{0}=0+0i$ y $1=1+0i \in \mathbb{C}$ tales que $z_1+\mathbf{0}=z_1$ y $1 \cdot z_1=z_1$</li>
# <li> <b>Inversos:</b> Existe $-z_1=-x_1-iy_1 \in \mathbb{C}$ tal que $z_1+(-z_1)=\mathbf{0}$. Si $z_1\neq \mathbf{0}$, existe $z_1^{-1}=\dfrac{x_1}{x_1^2+y_1^2}-i\dfrac{y_1}{x_1^2+y_1^2}\in \mathbb{C}$ tal que $z_1z_1^{-1}=1$</li>
# <li> <b>Distributividad:</b> $z_1(z_2+z_3)=z_1z_2+z_1z_3$</li>
# </ol>
# </div>

# %% [markdown]
# <div style="background-color: #f0f0f0; border-left: 5px solid #9E9E9E; padding: 10px; border-radius: 5px;">
# <b>Problema 1.1 (Andreescu, p. 19, Problema 1):</b><br>
# Considere los complejos $z_1=1+2i$, $z_2=-2+3i$ y $z_3=1-i$. Calcule:
# <ol type="a">
# <li> $z_1+z_2+z_3$</li>
# <li> $z_1z_2z_3$</li>
# <li> $\dfrac{z_1^2 + z_2^2}{z_2^2+z_3^2}$</li>
# <li> $z_1^2 + z_2^2 +z_3^2$</li>
# </ol>
# </div>

# %%
# Solución interactiva del Problema 1.1
z1 = 1 + 2j
z2 = -2 + 3j
z3 = 1 - 1j

# a) Suma
suma = z1 + z2 + z3

# b) Producto
producto = z1 * z2 * z3

# c) División de sumas de cuadrados
z1_sq = z1**2
z2_sq = z2**2
z3_sq = z3**2
division = (z1_sq + z2_sq) / (z2_sq + z3_sq)

# d) Suma de cuadrados
suma_cuadrados = z1_sq + z2_sq + z3_sq

# Mostrar resultados
print(f"(a) z1 + z2 + z3 = {suma}")
print(f"(b) z1 * z2 * z3 = {producto}")
print(f"(c) (z1² + z2²)/(z2² + z3²) = {division}")
print(f"(d) z1² + z2² + z3² = {suma_cuadrados}")

# %% [markdown]
# <div style="background-color: #f0f0f0; border-left: 5px solid #9E9E9E; padding: 10px; border-radius: 5px;">
# <b>Problema 1.2:</b><br>
# Demuestre que $z$ es real si y solo si es igual a su conjugado.
# </div>

# %% [markdown]
# **Demostración:**  
# Sea $z=a+bi$ un número complejo, donde $a$ y $b$ son números reales. El conjugado de $z$ es $\overline{z}=a-bi$.  
# 
# $(\Rightarrow)$ Si $z$ es real, entonces $z=a$ con $b=0$. Por tanto, $\overline{z}=a-0i=a=z$.  
# 
# $(\Leftarrow)$ Si $z=\overline{z}$, entonces $a+bi=a-bi$. Esto implica que $2bi=0$, lo que solo es posible si $b=0$. Por lo tanto, $z=a$ es un número real.  
# 
# En conclusión, $z$ es real si y solo si $z=\overline{z}$.

# %% [markdown]
# <div style="background-color: #f0f0f0; border-left: 5px solid #9E9E9E; padding: 10px; border-radius: 5px;">
# <b>Problema 1.3 (Andreescu, p. 19, Problema 9):</b><br>
# Encuentre los números reales $x,$ $y$ tales que $\dfrac{x-3}{3+i}+\dfrac{y-3}{3-i}=i.$
# </div>

# %%
# Solución interactiva del Problema 1.3
import sympy as sp

# Definir símbolos
x, y = sp.symbols('x y', real=True)

# Definir la ecuación
eq = sp.Eq((x-3)/(3+1j) + (y-3)/(3-1j), 1j)

# Resolver la ecuación
sol = sp.solve(eq, (x, y))

# Mostrar solución
print(f"Solución: x = {sol[x].evalf()}, y = {sol[y].evalf()}")

# Verificación
z = (sol[x]-3)/(3+1j) + (sol[y]-3)/(3-1j)
print(f"Verificación: resultado = {z.evalf()} (debería ser i ≈ 1j)")